{
 "cells": [
  {
   "cell_type": "code",
   "execution_count": 1,
   "id": "eaba3a7f",
   "metadata": {},
   "outputs": [
    {
     "name": "stdout",
     "output_type": "stream",
     "text": [
      "90\n"
     ]
    }
   ],
   "source": [
    "x = -90\n",
    "print (abs(x))"
   ]
  },
  {
   "cell_type": "code",
   "execution_count": 2,
   "id": "8e7c9dfd",
   "metadata": {},
   "outputs": [
    {
     "name": "stdout",
     "output_type": "stream",
     "text": [
      "A\n"
     ]
    }
   ],
   "source": [
    "print (chr(65))\n"
   ]
  },
  {
   "cell_type": "code",
   "execution_count": 3,
   "id": "bc50d14a",
   "metadata": {},
   "outputs": [
    {
     "name": "stdout",
     "output_type": "stream",
     "text": [
      "§\n"
     ]
    }
   ],
   "source": [
    "print (chr(167))"
   ]
  },
  {
   "cell_type": "code",
   "execution_count": 4,
   "id": "5927b9e0",
   "metadata": {},
   "outputs": [
    {
     "name": "stdout",
     "output_type": "stream",
     "text": [
      "167\n"
     ]
    }
   ],
   "source": [
    "print (ord('§'))"
   ]
  },
  {
   "cell_type": "code",
   "execution_count": 5,
   "id": "b92640aa",
   "metadata": {},
   "outputs": [],
   "source": [
    "import math"
   ]
  },
  {
   "cell_type": "code",
   "execution_count": 6,
   "id": "57556f5e",
   "metadata": {},
   "outputs": [
    {
     "data": {
      "text/plain": [
       "16.0"
      ]
     },
     "execution_count": 6,
     "metadata": {},
     "output_type": "execute_result"
    }
   ],
   "source": [
    "math.pow(4, 2)"
   ]
  },
  {
   "cell_type": "code",
   "execution_count": 7,
   "id": "98593f02",
   "metadata": {},
   "outputs": [],
   "source": [
    "from math import pow, sqrt "
   ]
  },
  {
   "cell_type": "code",
   "execution_count": 8,
   "id": "a5e336ca",
   "metadata": {},
   "outputs": [
    {
     "data": {
      "text/plain": [
       "125.0"
      ]
     },
     "execution_count": 8,
     "metadata": {},
     "output_type": "execute_result"
    }
   ],
   "source": [
    "pow (5, 3)"
   ]
  },
  {
   "cell_type": "code",
   "execution_count": 9,
   "id": "9d8c346e",
   "metadata": {},
   "outputs": [
    {
     "data": {
      "text/plain": [
       "5.0"
      ]
     },
     "execution_count": 9,
     "metadata": {},
     "output_type": "execute_result"
    }
   ],
   "source": [
    "sqrt (25)"
   ]
  },
  {
   "cell_type": "code",
   "execution_count": null,
   "id": "5f2af588",
   "metadata": {},
   "outputs": [],
   "source": []
  },
  {
   "cell_type": "code",
   "execution_count": null,
   "id": "bd017f0b",
   "metadata": {},
   "outputs": [],
   "source": []
  }
 ],
 "metadata": {
  "kernelspec": {
   "display_name": "Python 3 (ipykernel)",
   "language": "python",
   "name": "python3"
  },
  "language_info": {
   "codemirror_mode": {
    "name": "ipython",
    "version": 3
   },
   "file_extension": ".py",
   "mimetype": "text/x-python",
   "name": "python",
   "nbconvert_exporter": "python",
   "pygments_lexer": "ipython3",
   "version": "3.11.5"
  }
 },
 "nbformat": 4,
 "nbformat_minor": 5
}
