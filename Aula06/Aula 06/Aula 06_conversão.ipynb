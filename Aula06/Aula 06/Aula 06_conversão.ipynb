{
 "cells": [
  {
   "cell_type": "code",
   "execution_count": 1,
   "id": "24cb57bb",
   "metadata": {},
   "outputs": [],
   "source": [
    "y = 5 \n",
    "x = 5.7\n",
    "z = '67'\n",
    "W = '23.6'"
   ]
  },
  {
   "cell_type": "code",
   "execution_count": 3,
   "id": "029288dc",
   "metadata": {},
   "outputs": [
    {
     "name": "stdout",
     "output_type": "stream",
     "text": [
      "5\n"
     ]
    }
   ],
   "source": [
    "inteiro = int(y)\n",
    "print(inteiro)"
   ]
  },
  {
   "cell_type": "code",
   "execution_count": 4,
   "id": "aa9b8c9d",
   "metadata": {},
   "outputs": [
    {
     "name": "stdout",
     "output_type": "stream",
     "text": [
      "5.7\n"
     ]
    }
   ],
   "source": [
    "fracao = float (x)\n",
    "print (fracao)"
   ]
  },
  {
   "cell_type": "code",
   "execution_count": 7,
   "id": "002c9bc5",
   "metadata": {},
   "outputs": [
    {
     "name": "stdout",
     "output_type": "stream",
     "text": [
      "67\n"
     ]
    }
   ],
   "source": [
    "inteiro = int(z)\n",
    "print (inteiro)"
   ]
  },
  {
   "cell_type": "code",
   "execution_count": 8,
   "id": "8a519123",
   "metadata": {},
   "outputs": [
    {
     "name": "stdout",
     "output_type": "stream",
     "text": [
      "6723.6\n"
     ]
    }
   ],
   "source": [
    "soma = z + W\n",
    "print (soma)"
   ]
  },
  {
   "cell_type": "code",
   "execution_count": 10,
   "id": "5f4972e1",
   "metadata": {},
   "outputs": [
    {
     "name": "stdout",
     "output_type": "stream",
     "text": [
      "90.6\n"
     ]
    }
   ],
   "source": [
    "soma = int(z) + float (W)\n",
    "print (soma)"
   ]
  },
  {
   "cell_type": "code",
   "execution_count": 13,
   "id": "59f80c58",
   "metadata": {},
   "outputs": [
    {
     "data": {
      "text/plain": [
       "False"
      ]
     },
     "execution_count": 13,
     "metadata": {},
     "output_type": "execute_result"
    }
   ],
   "source": [
    "W.isdecimal()"
   ]
  },
  {
   "cell_type": "code",
   "execution_count": 17,
   "id": "8adbba7d",
   "metadata": {},
   "outputs": [
    {
     "name": "stdout",
     "output_type": "stream",
     "text": [
      "90.6\n",
      "<class 'str'>\n"
     ]
    }
   ],
   "source": [
    "frase = str (soma)\n",
    "print (soma)\n",
    "print (type(frase))\n"
   ]
  },
  {
   "cell_type": "code",
   "execution_count": null,
   "id": "ebf6ebf2",
   "metadata": {},
   "outputs": [],
   "source": []
  }
 ],
 "metadata": {
  "kernelspec": {
   "display_name": "Python 3 (ipykernel)",
   "language": "python",
   "name": "python3"
  },
  "language_info": {
   "codemirror_mode": {
    "name": "ipython",
    "version": 3
   },
   "file_extension": ".py",
   "mimetype": "text/x-python",
   "name": "python",
   "nbconvert_exporter": "python",
   "pygments_lexer": "ipython3",
   "version": "3.11.5"
  }
 },
 "nbformat": 4,
 "nbformat_minor": 5
}
