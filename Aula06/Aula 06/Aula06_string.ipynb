{
 "cells": [
  {
   "cell_type": "code",
   "execution_count": 1,
   "id": "481aaaef",
   "metadata": {},
   "outputs": [
    {
     "name": "stdout",
     "output_type": "stream",
     "text": [
      "Morelato\n"
     ]
    }
   ],
   "source": [
    "nome = 'Morelato'\n",
    "print (nome)"
   ]
  },
  {
   "cell_type": "code",
   "execution_count": 3,
   "id": "37535861",
   "metadata": {},
   "outputs": [
    {
     "name": "stdout",
     "output_type": "stream",
     "text": [
      "Meu sobrenome é:  Morelato\n"
     ]
    }
   ],
   "source": [
    "print ('Meu sobrenome é: ',(nome))"
   ]
  },
  {
   "cell_type": "code",
   "execution_count": 7,
   "id": "17d0ff58",
   "metadata": {},
   "outputs": [
    {
     "name": "stdout",
     "output_type": "stream",
     "text": [
      "M\n"
     ]
    }
   ],
   "source": [
    "print (nome[0])"
   ]
  },
  {
   "cell_type": "code",
   "execution_count": null,
   "id": "b57da243",
   "metadata": {},
   "outputs": [],
   "source": []
  }
 ],
 "metadata": {
  "kernelspec": {
   "display_name": "Python 3 (ipykernel)",
   "language": "python",
   "name": "python3"
  },
  "language_info": {
   "codemirror_mode": {
    "name": "ipython",
    "version": 3
   },
   "file_extension": ".py",
   "mimetype": "text/x-python",
   "name": "python",
   "nbconvert_exporter": "python",
   "pygments_lexer": "ipython3",
   "version": "3.11.5"
  }
 },
 "nbformat": 4,
 "nbformat_minor": 5
}
